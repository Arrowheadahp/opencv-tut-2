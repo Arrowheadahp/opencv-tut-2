{
 "cells": [
  {
   "cell_type": "code",
   "execution_count": 1,
   "id": "580cf949",
   "metadata": {},
   "outputs": [],
   "source": [
    "import cv2\n",
    "import numpy as np"
   ]
  },
  {
   "cell_type": "code",
   "execution_count": 2,
   "id": "91794a82",
   "metadata": {},
   "outputs": [],
   "source": [
    "def show(img):\n",
    "    cv2.imshow('img', img)\n",
    "    cv2.waitKey(0)\n",
    "\n",
    "def play(vid, func = None):\n",
    "    while True:\n",
    "        success, frame = vid.read()\n",
    "        if func:\n",
    "            frame = func(frame)\n",
    "        cv2.imshow('frame', frame)\n",
    "        if cv2.waitKey(16) & 0XFF==ord('q'):\n",
    "            break\n",
    "    cv2.destroyAllWindows()"
   ]
  },
  {
   "cell_type": "markdown",
   "id": "03e9e3d9",
   "metadata": {},
   "source": [
    "### Chapter 1"
   ]
  },
  {
   "cell_type": "code",
   "execution_count": 6,
   "id": "523f434a",
   "metadata": {},
   "outputs": [],
   "source": [
    "def gray(img):\n",
    "    return cv2.cvtColor(img, cv2.COLOR_BGR2GRAY)\n",
    "play(cap, gray)"
   ]
  },
  {
   "cell_type": "code",
   "execution_count": 9,
   "id": "483bdd3e",
   "metadata": {},
   "outputs": [],
   "source": [
    "lenna = cv2.imread('resources/lenna forsen.jpg')\n",
    "show(lenna)"
   ]
  },
  {
   "cell_type": "markdown",
   "id": "41fdf7da",
   "metadata": {},
   "source": [
    "### Chapter 2"
   ]
  },
  {
   "cell_type": "code",
   "execution_count": 47,
   "id": "7b58ecb9",
   "metadata": {},
   "outputs": [],
   "source": [
    "# cap = cv2.VideoCapture('resources/video.mp4')\n",
    "cap = cv2.VideoCapture(1)\n",
    "\n",
    "play(cap)"
   ]
  },
  {
   "cell_type": "code",
   "execution_count": 24,
   "id": "2d6ffd42",
   "metadata": {},
   "outputs": [],
   "source": [
    "def canny(img):\n",
    "    return cv2.Canny(img, 144, 144)\n",
    "play(cap, canny)"
   ]
  },
  {
   "cell_type": "code",
   "execution_count": 23,
   "id": "6dcbb159",
   "metadata": {},
   "outputs": [],
   "source": [
    "def dilate(img):\n",
    "    return cv2.dilate(canny(img), (3, 3), iterations = 1)\n",
    "play(cap, dilate)"
   ]
  },
  {
   "cell_type": "code",
   "execution_count": 27,
   "id": "6d575e02",
   "metadata": {},
   "outputs": [],
   "source": [
    "def erode(img):\n",
    "    return cv2.erode(canny(img), (3, 3), iterations = 1)\n",
    "play(cap, erode)"
   ]
  },
  {
   "cell_type": "markdown",
   "id": "56703a78",
   "metadata": {},
   "source": [
    "### Chapter 3"
   ]
  },
  {
   "cell_type": "code",
   "execution_count": 26,
   "id": "d8033918",
   "metadata": {},
   "outputs": [],
   "source": [
    "def resize(img):\n",
    "    return cv2.resize(img,( 256, 144))\n",
    "play(cap, resize)"
   ]
  },
  {
   "cell_type": "code",
   "execution_count": 20,
   "id": "064132e2",
   "metadata": {},
   "outputs": [],
   "source": [
    "def crop(img, x=300,y=100,h=300,w=300):\n",
    "    return img[y:y+w, x:x+h]\n",
    "play(cap, crop)"
   ]
  },
  {
   "cell_type": "markdown",
   "id": "718c3e99",
   "metadata": {},
   "source": [
    "### Chapter 4"
   ]
  },
  {
   "cell_type": "markdown",
   "id": "506cb008",
   "metadata": {},
   "source": [
    "cv2.line, cv2.rectangle, cv2.circle, cv2.putText"
   ]
  },
  {
   "cell_type": "markdown",
   "id": "b384e07f",
   "metadata": {},
   "source": [
    "### Chapter 5"
   ]
  },
  {
   "cell_type": "markdown",
   "id": "b6db0159",
   "metadata": {},
   "source": [
    "we can change the perspective to transform:\n",
    "matrix = cv2.getPerspectiveTransform(\n",
    "    points in original picture,\n",
    "    points in new picture ex: np.float32([[0, 0], [w, 0], [0, h], [w, h]]), \n",
    ")\n",
    "imOutput = cv2.warpPerspective(img, matrix, (w, h))"
   ]
  },
  {
   "cell_type": "markdown",
   "id": "09a2d403",
   "metadata": {},
   "source": [
    "### Chapter 6"
   ]
  },
  {
   "cell_type": "code",
   "execution_count": 22,
   "id": "a84826a7",
   "metadata": {},
   "outputs": [],
   "source": [
    "def qstack(img):\n",
    "    return np.hstack((np.vstack((\n",
    "        crop(img), crop(img))), np.vstack((\n",
    "        crop(img), crop(img)))))\n",
    "play(cap, qstack)"
   ]
  },
  {
   "cell_type": "markdown",
   "id": "2b4b93fb",
   "metadata": {},
   "source": [
    "### Chapter 7"
   ]
  },
  {
   "cell_type": "code",
   "execution_count": 15,
   "id": "8818e621",
   "metadata": {},
   "outputs": [],
   "source": [
    "def hsv(img):\n",
    "    return cv2.cvtColor(img, cv2.COLOR_BGR2HSV)\n",
    "play(cap, hsv)"
   ]
  },
  {
   "cell_type": "code",
   "execution_count": 21,
   "id": "df952b25",
   "metadata": {},
   "outputs": [
    {
     "ename": "KeyboardInterrupt",
     "evalue": "",
     "output_type": "error",
     "traceback": [
      "\u001b[1;31m---------------------------------------------------------------------------\u001b[0m",
      "\u001b[1;31mKeyboardInterrupt\u001b[0m                         Traceback (most recent call last)",
      "\u001b[1;32m<ipython-input-21-d689e27a5ba1>\u001b[0m in \u001b[0;36m<module>\u001b[1;34m\u001b[0m\n\u001b[0;32m     31\u001b[0m         \u001b[0mcv2\u001b[0m\u001b[1;33m.\u001b[0m\u001b[0mwaitKey\u001b[0m\u001b[1;33m(\u001b[0m\u001b[1;36m1\u001b[0m\u001b[1;33m)\u001b[0m\u001b[1;33m\u001b[0m\u001b[1;33m\u001b[0m\u001b[0m\n\u001b[0;32m     32\u001b[0m \u001b[1;33m\u001b[0m\u001b[0m\n\u001b[1;32m---> 33\u001b[1;33m \u001b[0mcontrol\u001b[0m\u001b[1;33m(\u001b[0m\u001b[0mlenna\u001b[0m\u001b[1;33m)\u001b[0m\u001b[1;33m\u001b[0m\u001b[1;33m\u001b[0m\u001b[0m\n\u001b[0m",
      "\u001b[1;32m<ipython-input-21-d689e27a5ba1>\u001b[0m in \u001b[0;36mcontrol\u001b[1;34m(img)\u001b[0m\n\u001b[0;32m     24\u001b[0m         \u001b[0mmask\u001b[0m \u001b[1;33m=\u001b[0m \u001b[0mcv2\u001b[0m\u001b[1;33m.\u001b[0m\u001b[0minRange\u001b[0m\u001b[1;33m(\u001b[0m\u001b[0mhsv\u001b[0m\u001b[1;33m(\u001b[0m\u001b[0mimg\u001b[0m\u001b[1;33m)\u001b[0m\u001b[1;33m,\u001b[0m \u001b[0mlower\u001b[0m\u001b[1;33m,\u001b[0m \u001b[0mupper\u001b[0m\u001b[1;33m)\u001b[0m\u001b[1;33m\u001b[0m\u001b[1;33m\u001b[0m\u001b[0m\n\u001b[0;32m     25\u001b[0m         \u001b[0mcv2\u001b[0m\u001b[1;33m.\u001b[0m\u001b[0mimshow\u001b[0m\u001b[1;33m(\u001b[0m\u001b[1;34m'mask'\u001b[0m\u001b[1;33m,\u001b[0m \u001b[0mmask\u001b[0m\u001b[1;33m)\u001b[0m\u001b[1;33m\u001b[0m\u001b[1;33m\u001b[0m\u001b[0m\n\u001b[1;32m---> 26\u001b[1;33m         \u001b[0mcv2\u001b[0m\u001b[1;33m.\u001b[0m\u001b[0mimshow\u001b[0m\u001b[1;33m(\u001b[0m\u001b[1;34m'masked'\u001b[0m\u001b[1;33m,\u001b[0m \u001b[0mcv2\u001b[0m\u001b[1;33m.\u001b[0m\u001b[0mbitwise_and\u001b[0m\u001b[1;33m(\u001b[0m\u001b[0mimg\u001b[0m\u001b[1;33m,\u001b[0m \u001b[0mimg\u001b[0m\u001b[1;33m,\u001b[0m \u001b[0mmask\u001b[0m\u001b[1;33m=\u001b[0m\u001b[0mmask\u001b[0m\u001b[1;33m)\u001b[0m\u001b[1;33m)\u001b[0m\u001b[1;33m\u001b[0m\u001b[1;33m\u001b[0m\u001b[0m\n\u001b[0m\u001b[0;32m     27\u001b[0m \u001b[1;33m\u001b[0m\u001b[0m\n\u001b[0;32m     28\u001b[0m \u001b[1;33m\u001b[0m\u001b[0m\n",
      "\u001b[1;31mKeyboardInterrupt\u001b[0m: "
     ]
    }
   ],
   "source": [
    "def control(img):\n",
    "    def empty(a):\n",
    "        pass\n",
    "    cv2.namedWindow('TrackBar')\n",
    "    cv2.resizeWindow('TrackBar', 640, 240)\n",
    "    cv2.createTrackbar('hue Min', 'TrackBar', 0, 179, empty)\n",
    "    cv2.createTrackbar('hue Max', 'TrackBar', 179, 179, empty)\n",
    "    cv2.createTrackbar('sat Min', 'TrackBar', 0, 255, empty)\n",
    "    cv2.createTrackbar('sat Max', 'TrackBar', 255, 255, empty)\n",
    "    cv2.createTrackbar('val Min', 'TrackBar', 0, 255, empty)\n",
    "    cv2.createTrackbar('val Max', 'TrackBar', 255, 255, empty)\n",
    "\n",
    "    while True:\n",
    "        h_min = cv2.getTrackbarPos('hue Min', 'TrackBar')\n",
    "        h_max = cv2.getTrackbarPos('hue Max', 'TrackBar')\n",
    "        s_min = cv2.getTrackbarPos('sat Min', 'TrackBar')\n",
    "        s_max = cv2.getTrackbarPos('sat Max', 'TrackBar')\n",
    "        v_min = cv2.getTrackbarPos('val Min', 'TrackBar')\n",
    "        v_max = cv2.getTrackbarPos('val Max', 'TrackBar')\n",
    "\n",
    "        lower = np.array([h_min, s_min, v_min])\n",
    "        upper = np.array([h_max, s_max, v_max])\n",
    "        \n",
    "        mask = cv2.inRange(hsv(img), lower, upper)\n",
    "        cv2.imshow('mask', mask)\n",
    "        cv2.imshow('masked', cv2.bitwise_and(img, img, mask=mask))\n",
    "        \n",
    "        \n",
    "#         if cv2.waitKey(1) or 0XFF==ord('q'):\n",
    "#             break\n",
    "        cv2.waitKey(1)\n",
    "\n",
    "control(lenna)        "
   ]
  },
  {
   "cell_type": "markdown",
   "id": "1d3d72ff",
   "metadata": {},
   "source": [
    "### Chapter 8"
   ]
  },
  {
   "cell_type": "code",
   "execution_count": 42,
   "id": "20c3614c",
   "metadata": {},
   "outputs": [],
   "source": [
    "def getContours(img):\n",
    "    contours, hierarchy = cv2.findContours(canny(img), cv2.RETR_EXTERNAL, cv2.CHAIN_APPROX_NONE)\n",
    "    t = img.copy()\n",
    "    for cnt in contours:\n",
    "        area = cv2.contourArea(cnt)\n",
    "        if area < 500: \n",
    "            continue\n",
    "        peri = cv2.arcLength(cnt, True)\n",
    "        approx = cv2.approxPolyDP(cnt, 0.02*peri, True)\n",
    "        x,y,w,h = cv2.boundingRect(approx)\n",
    "        cv2.rectangle(t, (x,y), (x+w,y+h), (0,255,0), 2)\n",
    "        cv2.putText(t, str(len(approx)), (x, y), cv2.FONT_HERSHEY_COMPLEX, 0.5, (0,0,255), 2)\n",
    "\n",
    "#     cv2.drawContours(t, contours, -1, (0,255,0), 2)\n",
    "    return t\n",
    "    \n",
    "play(cap, getContours)"
   ]
  },
  {
   "cell_type": "markdown",
   "id": "fbc10b27",
   "metadata": {},
   "source": [
    "### Chapter 9"
   ]
  },
  {
   "cell_type": "code",
   "execution_count": 44,
   "id": "99d73f46",
   "metadata": {},
   "outputs": [],
   "source": [
    "faceDetector = cv2.CascadeClassifier(cv2.data.haarcascades + 'haarcascade_frontalface_default.xml')"
   ]
  },
  {
   "cell_type": "code",
   "execution_count": 45,
   "id": "4cd1c3d8",
   "metadata": {},
   "outputs": [],
   "source": [
    "def detectFace(img):\n",
    "    g = gray(img)\n",
    "    faces = faceDetector.detectMultiScale(g, 1.1, 4)\n",
    "    for (x,y,w,h) in faces:\n",
    "        cv2.rectangle(img, (x,y), (x+w, y+h), (0,255,0), 2)\n",
    "    return img\n",
    "play(cap, detectFace)"
   ]
  },
  {
   "cell_type": "code",
   "execution_count": 46,
   "id": "1e8834c4",
   "metadata": {},
   "outputs": [],
   "source": [
    "upperDetector = cv2.CascadeClassifier(cv2.data.haarcascades + 'haarcascade_upperbody.xml')\n",
    "def detectupper(img, cascade=upperDetector):\n",
    "    g = gray(img)\n",
    "    rects = cascade.detectMultiScale(g, 1.1, 4)\n",
    "    for (x,y,w,h) in rects:\n",
    "        cv2.rectangle(img, (x,y), (x+w, y+h), (0,255,0), 2)\n",
    "    return img\n",
    "play(cap, detectupper)"
   ]
  },
  {
   "cell_type": "code",
   "execution_count": null,
   "id": "cf70e8cd",
   "metadata": {},
   "outputs": [],
   "source": []
  }
 ],
 "metadata": {
  "kernelspec": {
   "display_name": "Python 3",
   "language": "python",
   "name": "python3"
  },
  "language_info": {
   "codemirror_mode": {
    "name": "ipython",
    "version": 3
   },
   "file_extension": ".py",
   "mimetype": "text/x-python",
   "name": "python",
   "nbconvert_exporter": "python",
   "pygments_lexer": "ipython3",
   "version": "3.7.9"
  }
 },
 "nbformat": 4,
 "nbformat_minor": 5
}
