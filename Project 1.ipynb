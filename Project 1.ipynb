{
 "cells": [
  {
   "cell_type": "code",
   "execution_count": 1,
   "id": "b2d2c782",
   "metadata": {},
   "outputs": [],
   "source": [
    "import cv2\n",
    "import numpy as np"
   ]
  },
  {
   "cell_type": "code",
   "execution_count": 2,
   "id": "55a8029d",
   "metadata": {},
   "outputs": [],
   "source": [
    "cap = cv2.VideoCapture(1)"
   ]
  },
  {
   "cell_type": "code",
   "execution_count": 7,
   "id": "24de957d",
   "metadata": {},
   "outputs": [],
   "source": [
    "def play(func=None, vid=cap):\n",
    "    while True:\n",
    "        success, frame = vid.read()\n",
    "        if func:\n",
    "            frame = func(frame)\n",
    "        \n",
    "        cv2.imshow('video', frame)\n",
    "        if cv2.waitKey(16) & 0XFF==ord('q'):\n",
    "            break\n",
    "    cv2.destroyAllWindows()\n",
    "play()"
   ]
  },
  {
   "cell_type": "code",
   "execution_count": 8,
   "id": "8a6dcdca",
   "metadata": {},
   "outputs": [],
   "source": [
    "myColors = [\n",
    "    [5,107,0,19,255,255],\n",
    "    [133,56,0,159,256,255],\n",
    "    [57,76,0,100,255,255],\n",
    "    [90,48,0,118,255,255]\n",
    "]\n",
    "colorValues = [\n",
    "    (51,153,255),\n",
    "    (255,0,255),\n",
    "    (0,255,0),\n",
    "    (255,0,0)\n",
    "]"
   ]
  },
  {
   "cell_type": "code",
   "execution_count": 9,
   "id": "cbffcb1a",
   "metadata": {},
   "outputs": [],
   "source": [
    "def find_point(mask):\n",
    "    contours, hierarchy = cv2.findContours(mask, cv2.RETR_EXTERNAL, cv2.CHAIN_APPROX_NONE)\n",
    "    x, y, w, h = 0, 0, 0, 0\n",
    "    for cnt in contours:\n",
    "        area = cv2.contourArea(cnt)\n",
    "        if not area > 500:\n",
    "            continue\n",
    "        peri = cv2.arcLength(cnt, True)\n",
    "        approx = cv2.approxPolyDP(cnt, 0.02*peri, True)\n",
    "        x,y,w,h = cv2.boundingRect(approx)\n",
    "    return (x+w)//2, y\n",
    "\n",
    "\n",
    "def findColor(img, myColors, colorValues):\n",
    "    hsv = cv2.cvtColor(img, cv2.COLOR_BGR2HSV)\n",
    "    \n",
    "    newP = []\n",
    "    for c, color in enumerate(myColors):\n",
    "        lower = np.array(color[:3])\n",
    "        upper = np.array(color[3:])\n",
    "\n",
    "        mask = cv2.inRange(hsv, lower, upper)\n",
    "        x, y = find_point(mask)\n",
    "        if x!=0 and y!=0:\n",
    "            newP.append((x,y,c))\n",
    "    return newP\n",
    "        \n",
    "        \n",
    "def canvasdraw(img, points, colorValues=colorValues):\n",
    "    for p in points:\n",
    "        cv2.circle(img, (p[0], p[1]), 10, colorValues[p[2]], cv2.FILLED)\n",
    "    return img\n",
    "\n",
    "def drawColor(img):\n",
    "    global points\n",
    "    img = cv2.GaussianBlur(img, (3,3), 1)\n",
    "    newP = findColor(img, myColors, colorValues)\n",
    "    points += newP\n",
    "    \n",
    "    return canvasdraw(img, points)"
   ]
  },
  {
   "cell_type": "code",
   "execution_count": 10,
   "id": "bf39cd02",
   "metadata": {},
   "outputs": [],
   "source": [
    "points = []\n",
    "play(drawColor)"
   ]
  },
  {
   "cell_type": "code",
   "execution_count": null,
   "id": "45b059fc",
   "metadata": {},
   "outputs": [],
   "source": []
  }
 ],
 "metadata": {
  "kernelspec": {
   "display_name": "Python 3",
   "language": "python",
   "name": "python3"
  },
  "language_info": {
   "codemirror_mode": {
    "name": "ipython",
    "version": 3
   },
   "file_extension": ".py",
   "mimetype": "text/x-python",
   "name": "python",
   "nbconvert_exporter": "python",
   "pygments_lexer": "ipython3",
   "version": "3.7.9"
  }
 },
 "nbformat": 4,
 "nbformat_minor": 5
}
