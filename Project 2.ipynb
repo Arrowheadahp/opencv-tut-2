{
 "cells": [
  {
   "cell_type": "code",
   "execution_count": 1,
   "id": "28ab89ca",
   "metadata": {},
   "outputs": [],
   "source": [
    "import cv2\n",
    "import numpy as np"
   ]
  },
  {
   "cell_type": "code",
   "execution_count": 21,
   "id": "785e97f6",
   "metadata": {},
   "outputs": [],
   "source": [
    "cap = cv2.VideoCapture(1)\n",
    "\n",
    "def play(func=None, vid=cap):\n",
    "    while True:\n",
    "        success, frame = vid.read()\n",
    "        if func:\n",
    "            frame = func(frame)\n",
    "        \n",
    "        cv2.imshow('video', frame)\n",
    "        if cv2.waitKey(16) & 0XFF==ord('q'):\n",
    "            break\n",
    "    cv2.destroyAllWindows()\n",
    "play()"
   ]
  },
  {
   "cell_type": "code",
   "execution_count": 13,
   "id": "22731b06",
   "metadata": {},
   "outputs": [],
   "source": [
    "def preProcess(img):\n",
    "    img = cv2.cvtColor(img, cv2.COLOR_BGR2GRAY)\n",
    "    img = cv2.GaussianBlur(img, (3,3), 1)\n",
    "    img = cv2.Canny(img, 144, 144)\n",
    "    img = cv2.dilate(img, (3, 3), iterations = 2)\n",
    "    img = cv2.erode(img, (3, 3), iterations = 1)\n",
    "    return img\n",
    "play(preProcess)"
   ]
  },
  {
   "cell_type": "code",
   "execution_count": 87,
   "id": "98b82fa7",
   "metadata": {},
   "outputs": [],
   "source": [
    "def get_box(mask):\n",
    "    contours, hierarchy = cv2.findContours(mask, cv2.RETR_EXTERNAL, cv2.CHAIN_APPROX_NONE)\n",
    "    w, h = 408, 577\n",
    "    maxApprox = np.array([[[0,0]], [[w,0]], [[0,h]], [[w,h]]])\n",
    "    maxarea = 0\n",
    "    for cnt in contours:\n",
    "        area = cv2.contourArea(cnt)\n",
    "        if area < 5000: \n",
    "            continue\n",
    "        peri = cv2.arcLength(cnt, True)\n",
    "        approx = cv2.approxPolyDP(cnt, 0.02*peri, True)\n",
    "        if len(approx) != 4:\n",
    "            continue\n",
    "        if area > maxarea:\n",
    "            maxarea = area\n",
    "            maxApprox = approx\n",
    "        \n",
    "    return maxApprox"
   ]
  },
  {
   "cell_type": "code",
   "execution_count": 88,
   "id": "484c9f67",
   "metadata": {},
   "outputs": [],
   "source": [
    "def get_warp(img):\n",
    "    cp = img.copy()\n",
    "    img = preProcess(img)\n",
    "    box = get_box(img)\n",
    "#     box.reshape((4,2))\n",
    "\n",
    "    nb = []\n",
    "    for t in box:\n",
    "        nb.append(t[0])\n",
    "    box = nb\n",
    "#     print (box, type(box))\n",
    "\n",
    "    box = sorted(box, key = lambda t: t[0])\n",
    "    box = sorted(box, key = lambda t: t[1])\n",
    "    \n",
    "    w, h = 408, 577\n",
    "    matrix = cv2.getPerspectiveTransform(np.float32(box), np.float32([[0, 0], [w, 0], [0, h], [w, h]]))\n",
    "    return cv2.warpPerspective(cp, matrix, (h, w))\n",
    "                                         "
   ]
  },
  {
   "cell_type": "code",
   "execution_count": 89,
   "id": "28f4b361",
   "metadata": {},
   "outputs": [],
   "source": [
    "play(get_warp)"
   ]
  },
  {
   "cell_type": "code",
   "execution_count": null,
   "id": "408b2a76",
   "metadata": {},
   "outputs": [],
   "source": []
  }
 ],
 "metadata": {
  "kernelspec": {
   "display_name": "Python 3",
   "language": "python",
   "name": "python3"
  },
  "language_info": {
   "codemirror_mode": {
    "name": "ipython",
    "version": 3
   },
   "file_extension": ".py",
   "mimetype": "text/x-python",
   "name": "python",
   "nbconvert_exporter": "python",
   "pygments_lexer": "ipython3",
   "version": "3.7.9"
  }
 },
 "nbformat": 4,
 "nbformat_minor": 5
}
